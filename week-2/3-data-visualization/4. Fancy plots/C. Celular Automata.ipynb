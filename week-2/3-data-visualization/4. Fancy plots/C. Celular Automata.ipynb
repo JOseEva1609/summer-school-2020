{
 "cells": [
  {
   "cell_type": "markdown",
   "metadata": {},
   "source": [
    "# Introducción a los Autómatas Celulares"
   ]
  },
  {
   "cell_type": "markdown",
   "metadata": {},
   "source": [
    "<hr/>"
   ]
  },
  {
   "cell_type": "markdown",
   "metadata": {},
   "source": [
    "*Por: Martin Vuelta ([zodiacfireworks](https://github.com/zodiacfireworks))*"
   ]
  },
  {
   "cell_type": "markdown",
   "metadata": {},
   "source": [
    "*Email:* `martin.vuelta@softbutterfly.io`"
   ]
  },
  {
   "cell_type": "markdown",
   "metadata": {},
   "source": [
    "<hr/>"
   ]
  },
  {
   "cell_type": "markdown",
   "metadata": {},
   "source": [
    "<h2>1. Aplicaciones en el mundo real</h2>"
   ]
  },
  {
   "cell_type": "markdown",
   "metadata": {},
   "source": [
    "<h3>1.1. Etsuko Yakushimaru - \"I'm Humanity\"</h3>"
   ]
  },
  {
   "cell_type": "code",
   "execution_count": null,
   "metadata": {},
   "outputs": [],
   "source": [
    "from IPython.display import IFrame\n",
    "IFrame('https://www.youtube.com/embed/92Dcp9Fbdac?autoplay=1', width=700, height=395)"
   ]
  },
  {
   "cell_type": "markdown",
   "metadata": {},
   "source": [
    "1.2. Investigaciones aplicadas"
   ]
  },
  {
   "cell_type": "markdown",
   "metadata": {},
   "source": [
    "* S.C. Benjamin, N.F. Johnson, and PM Hui. Cellular automata models of traffic flow along a highway containing a junction. Journal of Physics A: Mathematical and General, 29:3119–3127, 1996.\n",
    "* D. Burraston and E. Edmonds. Cellular automata in generative electronic music and sonic art: a historical and technical review. Digital Creativity, 16(3):165–185, 2005.\n",
    "* D. Burraston, E. Edmonds, D. Livingstone, and E.R. Miranda. Cellular automata in midi based computer music. In Proceedings of the International Computer Music Conference, pages 71–78, 2004.\n",
    "* A.K. Daoudia and N. Moussa. Numerical simulations of a three-lane traffic model using cellular automata. Chinese Journal of Physics, 41(6), 2003.\n",
    "* A. Dupuis and B. Chopard. Cellular automata simulations of traffic: a model for the city of geneva. Networks and Spatial Economics, 3(1):9–21, 2003.\n",
    "* J. Esser and M. Schreckenberg. Microscopic simulation of urban traffic based on cellular automata. International Journal of Modern Physics C: Physics and Computer, 8(5):1025–1036, 1997.\n",
    "* C. Gershenson and D.A. Rosenblueth. Modeling self-organizing traffic lights with elementary cellular automata. arXiv:0907.1925, 2009.\n",
    "* Z. Gürdal and B. Tatting. Cellular automata for design of truss structures with linear and nonlinear response. In 41st AIAA/ASME/ASCE/AHS/ASC Structures, Structural Dynamics and Materials Conference & Exhibit, Atlanta, US-GA, April 2000.\n",
    "* E. Kita and T. Toyoda. Structural design using cellular automata. Structural and Multidisciplinary Optimization, 19(1):64–73, 2000.\n",
    "* C.G. Langton. Studying artificial life with cellular automata. Physica D: Nonlinear Phenomena, 22(1-3):120–149, 1986.\n",
    "* W. Lawrence, C.W. Chang, and P.D. Student. Motorbike’s moving behavior in mixed traffic: Particle-hopping model with cellular automata. Journal of the Eastern Asia Society for Transportation Studies, 5, 2003.\n",
    "* Ch. Mallikarjuna and K. Ramachandra Rao. Identification of a suitable cellular automata model for mixed traffic. In Proceedings of the Eastern Asia Society for Transportation Studies, volume 6, pages 2454–2469, 2007.\n",
    "* S. Missoum, Z. G¨urdal, and S. Setoodeh. Study of a new local update scheme for cellular automata in structural design. Structural and Multidisciplinary Optimization, 29(2):103–112, 2005.\n",
    "* K. Nagel. Particle hopping models and traffic flow theory. Physical Review E, 53(5):4655–4672, 1996.\n",
    "* K. Nagel and M. Schreckenberg. A cellular automaton model for freeway traffic. J. Phys. I France, 2:2221–2229, 1992.\n",
    "* K. Nagel, D.E. Wolf, P. Wagner, and P. Simon. Two-lane traffic rules for cellular automata: A systematic approach. Physical Review E, 58(2):1425–1437, 1998.\n",
    "* A. Salcido. Emerging Applications of Cellular Automata. InTech. 2013."
   ]
  },
  {
   "cell_type": "markdown",
   "metadata": {},
   "source": [
    "<h2>2. ¿Qué son los autómatas celulares?</h2>"
   ]
  },
  {
   "cell_type": "markdown",
   "metadata": {},
   "source": [
    "    Son pequeños mundos regidos por sus propias leyes físicas"
   ]
  },
  {
   "cell_type": "markdown",
   "metadata": {},
   "source": [
    "<h3>2.1. Primer acercamiento a las leyes de los automatas celulares</h3>"
   ]
  },
  {
   "cell_type": "code",
   "execution_count": null,
   "metadata": {},
   "outputs": [],
   "source": [
    "from numpy.random import random\n",
    "from numpy import array\n",
    "\n",
    "length = 11\n",
    "initial_state = array([round(x) for x in random(length)], dtype=int)\n",
    "\n",
    "print(initial_state)"
   ]
  },
  {
   "cell_type": "code",
   "execution_count": null,
   "metadata": {},
   "outputs": [],
   "source": [
    "pre_init = [initial_state[-1]]\n",
    "post_end = [initial_state[0]]\n",
    "\n",
    "circular_state = pre_init + list(initial_state) + post_end\n",
    "\n",
    "neighborhoods = array(list(circular_state[i-1:i+2] for i in range(1, len(circular_state) - 1)))\n",
    "\n",
    "for i, (cell, neighborhood) in enumerate(zip(initial_state, neighborhoods)):\n",
    "    print(\"{0:>2d}: [Element {1}] - [Neighborhood {2}]\".format(i, cell, neighborhood))"
   ]
  },
  {
   "cell_type": "code",
   "execution_count": null,
   "metadata": {},
   "outputs": [],
   "source": [
    "rule = {\n",
    "    (0,0,0): 0, \n",
    "    (0,0,1): 1,\n",
    "    (0,1,0): 1,\n",
    "    (0,1,1): 1,\n",
    "    (1,0,0): 1,\n",
    "    (1,0,1): 0,\n",
    "    (1,1,0): 0,\n",
    "    (1,1,1): 0,\n",
    "}"
   ]
  },
  {
   "cell_type": "code",
   "execution_count": null,
   "metadata": {},
   "outputs": [],
   "source": [
    "from numpy import zeros\n",
    "\n",
    "length = 15\n",
    "initial_state = zeros(length, dtype=int)\n",
    "initial_state[length//2] = 1\n",
    "\n",
    "history = [initial_state, ]\n",
    "\n",
    "print(\"{0:>2d}: {1}\".format(0, history[-1]))\n",
    "\n",
    "for i in range(1, length//2 + 1):\n",
    "    pre_init = [history[-1][-1]]\n",
    "    post_end = [history[-1][0]]\n",
    "\n",
    "    circular_state = pre_init + list(history[-1]) + post_end\n",
    "    neighborhoods = array(list(circular_state[i-1:i+2] for i in range(1, len(circular_state) - 1)))\n",
    "    \n",
    "    history.append(\n",
    "        array(list([rule[tuple(neighborhood)] for neighborhood in neighborhoods]))\n",
    "    )\n",
    "    \n",
    "    print(\"{0:>2d}: {1}\".format(i, history[-1]))"
   ]
  },
  {
   "cell_type": "markdown",
   "metadata": {},
   "source": [
    "<h3>2.2. Segundo acercamiento: Visualización gráfica</h3>"
   ]
  },
  {
   "cell_type": "markdown",
   "metadata": {},
   "source": [
    "<h4>2.2.1. Ajustes para gráficos</h4>"
   ]
  },
  {
   "cell_type": "code",
   "execution_count": null,
   "metadata": {},
   "outputs": [],
   "source": [
    "%matplotlib inline"
   ]
  },
  {
   "cell_type": "code",
   "execution_count": null,
   "metadata": {},
   "outputs": [],
   "source": [
    "# Ajustes generales para los gráficos\n",
    "# Para poder usar 'usetex=True' es necesario haber instalado latex\n",
    "from matplotlib.font_manager import *\n",
    "from matplotlib.collections import *\n",
    "from matplotlib.patches import *\n",
    "from matplotlib.pylab import *\n",
    "\n",
    "import gc\n",
    "\n",
    "ioff()\n",
    "\n",
    "rc('lines', linewidth=1)\n",
    "rc('font', family='serif')\n",
    "\n",
    "font_title = FontProperties(size=18)\n",
    "font_label = FontProperties(size=14, style='italic')\n",
    "font_ticks = FontProperties(size=12)\n",
    "font_legend = FontProperties(size=13)"
   ]
  },
  {
   "cell_type": "markdown",
   "metadata": {},
   "source": [
    "<h4>2.2.2. Gráficos del ejemplo de la sección 2.1</h4>"
   ]
  },
  {
   "cell_type": "markdown",
   "metadata": {},
   "source": [
    "<h5>2.2.2.1. La regla</h5>"
   ]
  },
  {
   "cell_type": "code",
   "execution_count": null,
   "metadata": {},
   "outputs": [],
   "source": [
    "rule_matrix = [\n",
    "    [\n",
    "        [0, 0, 0],\n",
    "        [0, 0, 0],\n",
    "    ],\n",
    "    [\n",
    "        [0, 0, 1],\n",
    "        [0, 1, 0],\n",
    "    ],\n",
    "    [\n",
    "        [0, 1, 0],\n",
    "        [0, 1, 0],\n",
    "    ],\n",
    "    [\n",
    "        [0, 1, 1],\n",
    "        [0, 1, 0],   \n",
    "    ],\n",
    "    [\n",
    "        [1, 0, 0],\n",
    "        [0, 1, 0],   \n",
    "    ],\n",
    "    [\n",
    "        [1, 0, 1],\n",
    "        [0, 0, 0],   \n",
    "    ],\n",
    "    [\n",
    "        [1, 1, 0],\n",
    "        [0, 0, 0],   \n",
    "    ],\n",
    "    [\n",
    "        [1, 1, 1],\n",
    "        [0, 0, 0],   \n",
    "    ],\n",
    "]\n",
    "\n",
    "\n",
    "fig = figure(figsize=[10, 4], frameon=True)\n",
    "\n",
    "for i, rule in enumerate(rule_matrix):\n",
    "    axs = fig.add_subplot(2, 4, i+1, )\n",
    "    axs.imshow(rule, cmap='winter')\n",
    "    axs.axis('off')\n",
    "    draw()\n",
    "    tight_layout()\n",
    "\n",
    "show()"
   ]
  },
  {
   "cell_type": "markdown",
   "metadata": {},
   "source": [
    "<h5>2.2.2.2. La evolucion de estados</h5>"
   ]
  },
  {
   "cell_type": "code",
   "execution_count": null,
   "metadata": {},
   "outputs": [],
   "source": [
    "from IPython.display import clear_output\n",
    "from IPython.display import display\n",
    "from time import sleep\n",
    "\n",
    "import gc\n",
    "\n",
    "rule = {\n",
    "    (0,0,0): 0, \n",
    "    (0,0,1): 1,\n",
    "    (0,1,0): 1,\n",
    "    (0,1,1): 1,\n",
    "    (1,0,0): 1,\n",
    "    (1,0,1): 0,\n",
    "    (1,1,0): 0,\n",
    "    (1,1,1): 0,\n",
    "}\n",
    "\n",
    "length = 11\n",
    "initial_state = zeros(length, dtype=int)\n",
    "initial_state[length//2] = 1\n",
    "\n",
    "history = zeros((length//2 + 1, length), dtype=int)\n",
    "\n",
    "for i in range(length//2 + 1):\n",
    "    if i == 0:\n",
    "        history[0] = initial_state\n",
    "    else:\n",
    "        pre_init = [history[i-1][-1]]\n",
    "        post_end = [history[i-1][0]]\n",
    "\n",
    "        circular_state = pre_init + list(history[i-1]) + post_end\n",
    "        neighborhoods = array(list(circular_state[i-1:i+2] for i in range(1, len(circular_state) - 1)))\n",
    "\n",
    "        history[i] = array(list([rule[tuple(neighborhood)] for neighborhood in neighborhoods]))\n",
    "    \n",
    "    fig = figure(figsize=[12, 6], frameon=True)\n",
    "    axs = fig.add_subplot('111')\n",
    "    axs.imshow(history, cmap='winter')\n",
    "    axs.axis('off')\n",
    "    draw()\n",
    "    tight_layout()\n",
    "    display(fig)\n",
    "    clear_output(wait=True)\n",
    "    fig.clf()\n",
    "    close()\n",
    "    gc.collect()\n",
    "    \n",
    "    sleep(0.15)"
   ]
  },
  {
   "cell_type": "markdown",
   "metadata": {},
   "source": [
    "<h5>2.2.2.3. Una implementación más compleja</h5>"
   ]
  },
  {
   "cell_type": "code",
   "execution_count": null,
   "metadata": {},
   "outputs": [],
   "source": [
    "from numpy import array\n",
    "from numpy import where\n",
    "from numpy import zeros\n",
    "from numpy import ones\n",
    "from collections import Iterable\n",
    "\n",
    "\n",
    "class State(object):\n",
    "    FINITE='f'\n",
    "    PERIODIC='p'\n",
    "    \n",
    "    __grid = None\n",
    "    __stype = None\n",
    "    \n",
    "    def __init__(self, s, stype=PERIODIC):\n",
    "        if stype == self.PERIODIC or stype == self.FINITE:\n",
    "            self.__stype = stype\n",
    "        else:\n",
    "            raise(ValueError('Invalid value for ntype.'))\n",
    "            \n",
    "        if isinstance(s, int):\n",
    "            self.__grid = zeros(s)\n",
    "            \n",
    "        if isinstance(s, Iterable):\n",
    "            self.__grid = array(list(s))\n",
    "    \n",
    "    def __getitem__(self, key):\n",
    "        return self.__grid[key]\n",
    "\n",
    "    def __setitem__(self, key, value):\n",
    "        self.__grid[key] = value\n",
    "        \n",
    "    def __len__(self):\n",
    "        return len(self.__grid)\n",
    "        \n",
    "    def __str__(self):\n",
    "        return str(self.__grid)\n",
    "    \n",
    "    def __repr__(self):\n",
    "        return repr(self.__grid)\n",
    "\n",
    "    def __eq__(self, other):\n",
    "        return self.grid.__eq__(other)\n",
    "    \n",
    "    @property\n",
    "    def grid(self):\n",
    "        return self.__grid\n",
    "    \n",
    "    @property\n",
    "    def stype(self):\n",
    "        return self.__stype\n",
    "    \n",
    "    @property\n",
    "    def neighborhoods(self):        \n",
    "        begin = [self.grid[-1] if self.__stype == self.PERIODIC else 0]\n",
    "        end = [self.grid[0] if self.__stype == self.PERIODIC else 0]\n",
    "        fake_grid = tuple(begin + list(self.grid) + end)\n",
    "        \n",
    "        return list(fake_grid[i-1:i+2] for i in range(1, len(self.grid) + 1))"
   ]
  },
  {
   "cell_type": "code",
   "execution_count": null,
   "metadata": {},
   "outputs": [],
   "source": [
    "from numpy import array\n",
    "\n",
    "class Rule(object):\n",
    "    __f = None\n",
    "    \n",
    "    def __init__(self, f=lambda x: x[1]):\n",
    "        if not isinstance(f, dict) and not callable(f):\n",
    "            raise(TypeError('Rule argument must be callable or dict instance'))\n",
    "        \n",
    "        self.__f = f\n",
    "    \n",
    "    def __call__(self, cell, *args, **kwargs):\n",
    "        if callable(self.__f):\n",
    "            return self.__f(cell, *args, **kwargs)\n",
    "        else:\n",
    "            return self.__f[cell]"
   ]
  },
  {
   "cell_type": "code",
   "execution_count": null,
   "metadata": {},
   "outputs": [],
   "source": [
    "class CellularAutomaton(object):\n",
    "    \"\"\"\n",
    "    Cellular Atomaton class\n",
    "    \"\"\"\n",
    "    __seed = None\n",
    "    __history = None\n",
    "    __rule = None\n",
    "    __stype = None\n",
    "    \n",
    "    def __init__(self, seed=None, rule=None):\n",
    "        # Check for seed assignment\n",
    "        if isinstance(seed, State):\n",
    "            self.__stype = seed.stype\n",
    "            self.__seed = array(seed.grid, dtype=int)\n",
    "            self.__history = [array(self.__seed, dtype=int)]\n",
    "            \n",
    "        elif seed is None:\n",
    "            self.__seed = None\n",
    "            self.history = None\n",
    "        else:\n",
    "            raise(TypeError(\"Argument 'seed' must be a State instance\"))\n",
    "        \n",
    "        # Check for rule assignment\n",
    "        if isinstance(rule, Rule):\n",
    "            self.__rule = rule\n",
    "        elif rule is None:\n",
    "            self.__rule = None\n",
    "        else:\n",
    "            raise(TypeError(\"Argument 'rule' must be a Rule instance\"))\n",
    "    \n",
    "\n",
    "    def evolve(self, steps=1):\n",
    "        if steps < 1:\n",
    "            raise(ValueError(\"Evolution steps must be greater than 0\"))\n",
    "        \n",
    "        if self.__rule is None:\n",
    "            raise(ValueError(\"Evolution rule is not defined\"))\n",
    "        \n",
    "        if self.__seed is None:\n",
    "            raise(ValueError(\"Initial state doesn't exists\"))\n",
    "            \n",
    "        for i in range(len(self.history), steps):\n",
    "            \n",
    "            self.__history.append(\n",
    "                array(\n",
    "                    [self.rule(neighborhood) for neighborhood in State(self.history[-1], self.stype).neighborhoods]\n",
    "                )\n",
    "            )\n",
    "   \n",
    "    # Properties\n",
    "    @property\n",
    "    def rule(self):\n",
    "        return self.__rule\n",
    "    \n",
    "    @rule.setter\n",
    "    def rule(self, value):\n",
    "        if isinstance(value, Rule):\n",
    "            self.__rule = rule\n",
    "        else:\n",
    "            raise TypeError(\"Argument 'rule' must be a Rule instance\")\n",
    "    \n",
    "    @property\n",
    "    def seed(self):\n",
    "        return self._seed\n",
    "    \n",
    "    @seed.setter\n",
    "    def seed(self, value):\n",
    "        if isinstance(value, State):\n",
    "            self.__stype = value.stype\n",
    "            self.__seed = array(value.grid)\n",
    "            self.__history = [array(self.__seed)]\n",
    "        else:\n",
    "            raise TypeError(\"Argument 'rule' must be a State instance\")\n",
    "    \n",
    "    @property\n",
    "    def stype(self):\n",
    "        return self.__stype\n",
    "\n",
    "    @property\n",
    "    def history(self):\n",
    "        return array(self.__history)"
   ]
  },
  {
   "cell_type": "markdown",
   "metadata": {},
   "source": [
    "<h5>2.2.2.3. Explorando otras reglas</h5>"
   ]
  },
  {
   "cell_type": "markdown",
   "metadata": {},
   "source": [
    "<h6>La relga 30</h6>"
   ]
  },
  {
   "cell_type": "code",
   "execution_count": null,
   "metadata": {},
   "outputs": [],
   "source": [
    "Rule30 = Rule({\n",
    "    (0,0,0): 0, \n",
    "    (0,0,1): 1,\n",
    "    (0,1,0): 1,\n",
    "    (0,1,1): 1,\n",
    "    (1,0,0): 1,\n",
    "    (1,0,1): 0,\n",
    "    (1,1,0): 0,\n",
    "    (1,1,1): 0,\n",
    "})"
   ]
  },
  {
   "cell_type": "code",
   "execution_count": null,
   "metadata": {},
   "outputs": [],
   "source": [
    "size = 401\n",
    "center = size//2\n",
    "\n",
    "seed = State(size)\n",
    "seed[size//4] = 1\n",
    "seed[3*size//4] = 1\n",
    "ca = CellularAutomaton(seed, Rule30);\n",
    "ca.evolve(size//2)\n",
    "\n",
    "fig = figure(figsize=(30, 15), frameon=False)\n",
    "axs = fig.add_subplot('111')\n",
    "\n",
    "axs.imshow(ca.history, cmap='viridis', interpolation='nearest')\n",
    "axs.axis('off')\n",
    "draw()\n",
    "tight_layout()\n",
    "show()"
   ]
  },
  {
   "cell_type": "code",
   "execution_count": null,
   "metadata": {},
   "outputs": [],
   "source": [
    "size = 401\n",
    "center = size//2\n",
    "\n",
    "seed = State([round(x) for x in random(size)])\n",
    "ca = CellularAutomaton(seed, Rule30);\n",
    "ca.evolve(size//2)\n",
    "\n",
    "fig = figure(figsize=(30, 15), frameon=False)\n",
    "axs = fig.add_subplot('111')\n",
    "\n",
    "axs.imshow(ca.history, cmap='viridis', interpolation='nearest')\n",
    "axs.axis('off')\n",
    "draw()\n",
    "tight_layout()\n",
    "show()"
   ]
  },
  {
   "cell_type": "markdown",
   "metadata": {},
   "source": [
    "<h6>La regla 110</h6>"
   ]
  },
  {
   "cell_type": "code",
   "execution_count": null,
   "metadata": {},
   "outputs": [],
   "source": [
    "Rule110 = Rule({\n",
    "    (1,1,1): 0,\n",
    "    (1,1,0): 1,\n",
    "    (1,0,1): 1,\n",
    "    (1,0,0): 0,\n",
    "    (0,1,1): 1,\n",
    "    (0,1,0): 1,\n",
    "    (0,0,1): 1,\n",
    "    (0,0,0): 0, \n",
    "})"
   ]
  },
  {
   "cell_type": "code",
   "execution_count": null,
   "metadata": {},
   "outputs": [],
   "source": [
    "size = 401\n",
    "center = size//2\n",
    "\n",
    "seed = State([round(x) for x in random(size)])\n",
    "ca = CellularAutomaton(seed, Rule110);\n",
    "ca.evolve(size//2)\n",
    "\n",
    "fig = figure(figsize=(30, 15), frameon=False)\n",
    "axs = fig.add_subplot('111')\n",
    "\n",
    "axs.imshow(ca.history, cmap='viridis', interpolation='nearest')\n",
    "axs.axis('off')\n",
    "draw()\n",
    "tight_layout()\n",
    "show()"
   ]
  },
  {
   "cell_type": "markdown",
   "metadata": {},
   "source": [
    "<h6>Otras relgas</h6>"
   ]
  },
  {
   "cell_type": "code",
   "execution_count": null,
   "metadata": {},
   "outputs": [],
   "source": [
    "def custom_rule(cell):\n",
    "    return sum(cell) % 2\n",
    "\n",
    "CustomRule = Rule(custom_rule)\n",
    "    \n",
    "size = 401\n",
    "center = size//2\n",
    "\n",
    "# seed = State([round(x) for x in random(size)])\n",
    "seed = State(size, stype=State.FINITE)\n",
    "seed[center] = 1\n",
    "\n",
    "ca = CellularAutomaton(seed, CustomRule);\n",
    "ca.evolve(size//2)\n",
    "\n",
    "fig = figure(figsize=(30, 15), frameon=False)\n",
    "axs = fig.add_subplot('111')\n",
    "\n",
    "axs.imshow(ca.history, cmap='viridis', interpolation='nearest')\n",
    "axs.axis('off')\n",
    "draw()\n",
    "tight_layout()\n",
    "show()"
   ]
  },
  {
   "cell_type": "code",
   "execution_count": null,
   "metadata": {},
   "outputs": [],
   "source": [
    "def custom_rule(cell):\n",
    "    return cell[0] != cell[-1]\n",
    "\n",
    "CustomRule = Rule(custom_rule)\n",
    "    \n",
    "size = 401\n",
    "center = size//2\n",
    "\n",
    "seed = State([round(x) for x in random(size)])\n",
    "# seed = State(size, stype=State.FINITE)\n",
    "# seed[center] = 1\n",
    "\n",
    "ca = CellularAutomaton(seed, CustomRule);\n",
    "ca.evolve(size)\n",
    "\n",
    "fig = figure(figsize=(30, 15), frameon=False)\n",
    "axs = fig.add_subplot('111')\n",
    "\n",
    "axs.imshow(ca.history, cmap='viridis', interpolation='nearest')\n",
    "axs.axis('off')\n",
    "draw()\n",
    "tight_layout()\n",
    "show()"
   ]
  },
  {
   "cell_type": "markdown",
   "metadata": {},
   "source": [
    "<h2>3. Etsuko Yakushimaru y el Juego de la Vida de Conway</h2>"
   ]
  },
  {
   "cell_type": "code",
   "execution_count": null,
   "metadata": {},
   "outputs": [],
   "source": [
    "from IPython.display import clear_output\n",
    "from IPython.display import display\n",
    "from time import sleep\n",
    "\n",
    "import gc\n",
    "\n",
    "\n",
    "def GameOfLife(state, steps=20, step_time=0.01, size=[6, 6]):\n",
    "    def NextState(state):\n",
    "        neighborhood_count = sum(\n",
    "            roll(\n",
    "                roll(state, i, 0), \n",
    "                j,\n",
    "                1\n",
    "            ) for i in (-1, 0, 1) for j in (-1, 0, 1) if (i != 0 or j != 0)\n",
    "        )\n",
    "\n",
    "        return (neighborhood_count == 3) | (state & (neighborhood_count == 2))        \n",
    "\n",
    "    for i in range(steps):\n",
    "        if i > 0:\n",
    "            new_state = NextState(state)\n",
    "            state = new_state\n",
    "\n",
    "        fig = figure(figsize=size, frameon=True)\n",
    "        axs = fig.add_subplot('111')\n",
    "        axs.imshow(state, cmap='winter')\n",
    "        # axs.axis('off')\n",
    "\n",
    "        axs.set_xticks([])\n",
    "        axs.set_yticks([])\n",
    "\n",
    "        axs.set_facecolor('#fafafa')\n",
    "        axs.spines['top'].set_linewidth(1)\n",
    "        axs.spines['top'].set_color('#212121')\n",
    "        axs.spines['right'].set_linewidth(0)\n",
    "        axs.spines['right'].set_color('#fafafa')\n",
    "        axs.spines['bottom'].set_linewidth(0)\n",
    "        axs.spines['bottom'].set_color('#fafafa')\n",
    "        axs.spines['left'].set_linewidth(0)\n",
    "        axs.spines['left'].set_color('#fafafa')\n",
    "\n",
    "        axs.set_title(\n",
    "            \"State: {0}\".format(i+1),\n",
    "            fontproperties=font_title,\n",
    "            horizontalalignment='left',\n",
    "            verticalalignment='bottom',\n",
    "            x=0,\n",
    "            y=1,\n",
    "        )\n",
    "        \n",
    "        draw()\n",
    "        tight_layout()\n",
    "        display(fig)\n",
    "        clear_output(wait=True)\n",
    "        fig.clf()\n",
    "        close()\n",
    "        gc.collect()\n",
    "\n",
    "        sleep(step_time)\n",
    "\n",
    "        if i == 0:\n",
    "            sleep(1.35)"
   ]
  },
  {
   "cell_type": "code",
   "execution_count": null,
   "metadata": {},
   "outputs": [],
   "source": [
    "state = array([array([round(x) for x in row], dtype=int) for row in random((10, 10))], dtype=int)\n",
    "GameOfLife(state)"
   ]
  },
  {
   "cell_type": "markdown",
   "metadata": {},
   "source": [
    "<h3>3.1. Algunos estados interesantes en el Juego de la vida</h3>"
   ]
  },
  {
   "cell_type": "markdown",
   "metadata": {},
   "source": [
    "<h4>3.1.1. Estados estacionario</h4>"
   ]
  },
  {
   "cell_type": "code",
   "execution_count": null,
   "metadata": {},
   "outputs": [],
   "source": [
    "state = zeros((6, 21), dtype=int)\n",
    "\n",
    "state[2:4, 1:3] = 1\n",
    "\n",
    "state[1:4, 5:9] = [[0, 1, 1, 0],\n",
    "                   [1, 0, 0, 1],\n",
    "                   [0, 1, 1, 0]]\n",
    "\n",
    "state[1:5, 11:15] = [[0, 1, 1, 0],\n",
    "                     [1, 0, 0, 1],\n",
    "                     [0, 1, 0, 1],\n",
    "                     [0, 0, 1, 0]]\n",
    "\n",
    "state[1:4, 17:20] = [[1, 1, 0],\n",
    "                     [1, 0, 1],\n",
    "                     [0, 1, 0]]\n",
    "\n",
    "GameOfLife(state, 10)"
   ]
  },
  {
   "cell_type": "markdown",
   "metadata": {},
   "source": [
    "<h3>3.1.2. Osciladores simples</h3>"
   ]
  },
  {
   "cell_type": "code",
   "execution_count": null,
   "metadata": {},
   "outputs": [],
   "source": [
    "blinker = [1, 1, 1]\n",
    "toad = [[1, 1, 1, 0],\n",
    "        [0, 1, 1, 1]]\n",
    "\n",
    "state = np.zeros((6, 11), dtype=int)\n",
    "\n",
    "state[2, 1:4] = blinker\n",
    "\n",
    "state[2:4, 6:10] = toad\n",
    "\n",
    "GameOfLife(state, 10)"
   ]
  },
  {
   "cell_type": "code",
   "execution_count": null,
   "metadata": {},
   "outputs": [],
   "source": [
    "state = zeros((17, 17), dtype=int)\n",
    "state[2, 4:7] = 1\n",
    "state[4:7, 7] = 1\n",
    "state += state.transpose()\n",
    "state += state[:, ::-1]\n",
    "state += state[::-1, :]\n",
    "GameOfLife(state)"
   ]
  },
  {
   "cell_type": "code",
   "execution_count": null,
   "metadata": {},
   "outputs": [],
   "source": [
    "glider = [[1, 0, 0],\n",
    "          [0, 1, 1],\n",
    "          [1, 1, 0]]\n",
    "\n",
    "state = np.zeros((8, 8), dtype=int)\n",
    "\n",
    "state[:3, :3] = glider\n",
    "\n",
    "GameOfLife(state, 60)"
   ]
  },
  {
   "cell_type": "markdown",
   "metadata": {},
   "source": [
    "<h3>3.1.3. Crecimiento ilimitado</h3>"
   ]
  },
  {
   "cell_type": "code",
   "execution_count": null,
   "metadata": {},
   "outputs": [],
   "source": [
    "unbounded = [[1, 1, 1, 0, 1],\n",
    "             [1, 0, 0, 0, 0],\n",
    "             [0, 0, 0, 1, 1],\n",
    "             [0, 1, 1, 0, 1],\n",
    "             [1, 0, 1, 0, 1]]\n",
    "\n",
    "state = np.zeros((30, 40), dtype=int)\n",
    "state[15:20, 18:23] = unbounded\n",
    "\n",
    "GameOfLife(state, 100, 0.05)"
   ]
  },
  {
   "cell_type": "markdown",
   "metadata": {},
   "source": [
    "<h3>3.1.4. Otros patrones</h3>"
   ]
  },
  {
   "cell_type": "code",
   "execution_count": null,
   "metadata": {},
   "outputs": [],
   "source": [
    "glider_gun = [[0,0,0,0,0,0,0,0,0,0,0,0,0,0,0,0,0,0,0,0,0,0,0,0,1,0,0,0,0,0,0,0,0,0,0,0],\n",
    "              [0,0,0,0,0,0,0,0,0,0,0,0,0,0,0,0,0,0,0,0,0,0,1,0,1,0,0,0,0,0,0,0,0,0,0,0],\n",
    "              [0,0,0,0,0,0,0,0,0,0,0,0,1,1,0,0,0,0,0,0,1,1,0,0,0,0,0,0,0,0,0,0,0,0,1,1],\n",
    "              [0,0,0,0,0,0,0,0,0,0,0,1,0,0,0,1,0,0,0,0,1,1,0,0,0,0,0,0,0,0,0,0,0,0,1,1],\n",
    "              [1,1,0,0,0,0,0,0,0,0,1,0,0,0,0,0,1,0,0,0,1,1,0,0,0,0,0,0,0,0,0,0,0,0,0,0],\n",
    "              [1,1,0,0,0,0,0,0,0,0,1,0,0,0,1,0,1,1,0,0,0,0,1,0,1,0,0,0,0,0,0,0,0,0,0,0],\n",
    "              [0,0,0,0,0,0,0,0,0,0,1,0,0,0,0,0,1,0,0,0,0,0,0,0,1,0,0,0,0,0,0,0,0,0,0,0],\n",
    "              [0,0,0,0,0,0,0,0,0,0,0,1,0,0,0,1,0,0,0,0,0,0,0,0,0,0,0,0,0,0,0,0,0,0,0,0],\n",
    "              [0,0,0,0,0,0,0,0,0,0,0,0,1,1,0,0,0,0,0,0,0,0,0,0,0,0,0,0,0,0,0,0,0,0,0,0]]\n",
    "\n",
    "\n",
    "state = np.zeros((50, 70), dtype=int)\n",
    "state[1:10,1:37] = glider_gun\n",
    "\n",
    "GameOfLife(state, 180, 0.005)"
   ]
  },
  {
   "cell_type": "code",
   "execution_count": null,
   "metadata": {},
   "outputs": [],
   "source": [
    "A = [\n",
    "    [0, 1, 1, 1, 0],\n",
    "    [1, 0, 0, 0, 1],\n",
    "    [1, 1, 1, 1, 1],\n",
    "    [1, 0, 0, 0, 1],\n",
    "    [1, 0, 0, 0, 1],\n",
    "]\n",
    "\n",
    "C = [\n",
    "    [0, 1, 1, 1, 1],\n",
    "    [1, 0, 0, 0, 0],\n",
    "    [1, 0, 0, 0, 0],\n",
    "    [1, 0, 0, 0, 0],\n",
    "    [0, 1, 1, 1, 1],\n",
    "]\n",
    "\n",
    "G = [\n",
    "    [0, 1, 1, 1, 1],\n",
    "    [1, 0, 0, 0, 0],\n",
    "    [1, 0, 0, 1, 1],\n",
    "    [1, 0, 0, 0, 1],\n",
    "    [0, 1, 1, 1, 1],\n",
    "]\n",
    "\n",
    "T = [\n",
    "    [1, 1, 1, 1, 1],\n",
    "    [0, 0, 1, 0, 0],\n",
    "    [0, 0, 1, 0, 0],\n",
    "    [0, 0, 1, 0, 0],\n",
    "    [0, 0, 1, 0, 0],\n",
    "]\n",
    "\n",
    "ADN = {\n",
    "    0: A,\n",
    "    1: C,\n",
    "    2: G,\n",
    "    3: T,\n",
    "}\n",
    "\n",
    "x = 24\n",
    "y = 12\n",
    "f = 6\n",
    "k = 3\n",
    "\n",
    "state = zeros((y*f+1, x*f+1), dtype=int)\n",
    "\n",
    "for i in range(1,x*f+1,f):\n",
    "    for j in range(1,y*f+1,f):\n",
    "        r = round(k*random())\n",
    "        state[j:j+f-1, i:i+f-1] = ADN[r]\n",
    "\n",
    "GameOfLife(state, steps=100, step_time=0.001, size=[15, 6])"
   ]
  }
 ],
 "metadata": {
  "kernelspec": {
   "display_name": "Python 3",
   "language": "python",
   "name": "python3"
  },
  "language_info": {
   "codemirror_mode": {
    "name": "ipython",
    "version": 3
   },
   "file_extension": ".py",
   "mimetype": "text/x-python",
   "name": "python",
   "nbconvert_exporter": "python",
   "pygments_lexer": "ipython3",
   "version": "3.8.1"
  }
 },
 "nbformat": 4,
 "nbformat_minor": 4
}
