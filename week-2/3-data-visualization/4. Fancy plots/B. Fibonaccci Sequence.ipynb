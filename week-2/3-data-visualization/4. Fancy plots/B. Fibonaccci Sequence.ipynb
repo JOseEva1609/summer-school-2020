{
 "cells": [
  {
   "cell_type": "markdown",
   "metadata": {},
   "source": [
    "# La sucesión de Fibonaccci"
   ]
  },
  {
   "cell_type": "markdown",
   "metadata": {},
   "source": [
    "<hr/>"
   ]
  },
  {
   "cell_type": "markdown",
   "metadata": {},
   "source": [
    "*Por: Martin Vuelta ([zodiacfireworks](https://github.com/zodiacfireworks))*"
   ]
  },
  {
   "cell_type": "markdown",
   "metadata": {},
   "source": [
    "*Email:* `martin.vuelta@softbutterfly.io`"
   ]
  },
  {
   "cell_type": "markdown",
   "metadata": {},
   "source": [
    "<hr/>"
   ]
  },
  {
   "cell_type": "markdown",
   "metadata": {},
   "source": [
    "## 1. Introducción"
   ]
  },
  {
   "cell_type": "markdown",
   "metadata": {},
   "source": [
    "Los números de Fibonacci son aquellos pertenecientes a la secuencia de números $\\{F_n\\}_{n=1}^{\\infty}$ definida por la relación lineal de recurrencia:\n",
    "\n",
    "$$F_n = F_{n-1} + F_{n-2}$$\n",
    "\n",
    "con $F_{1} = F_{2} = 1$. Como resultado de dicha definicion, comúnmente se asigna el valor $0$ al termino $F_{0}$"
   ]
  },
  {
   "cell_type": "markdown",
   "metadata": {},
   "source": [
    "## 2. Implementación en Python"
   ]
  },
  {
   "cell_type": "markdown",
   "metadata": {},
   "source": [
    "### 2.1. Algoritmo Recursivo"
   ]
  },
  {
   "cell_type": "code",
   "execution_count": null,
   "metadata": {},
   "outputs": [],
   "source": [
    "def RecursiveFibonacci(n):\n",
    "    if n < 2:\n",
    "        return n\n",
    "    \n",
    "    return RecursiveFibonacci(n-1) + RecursiveFibonacci(n-2)"
   ]
  },
  {
   "cell_type": "code",
   "execution_count": null,
   "metadata": {},
   "outputs": [],
   "source": [
    "for n in range(0, 11):\n",
    "    print(\"Término {0:>2d} -> {1:}\".format(n, RecursiveFibonacci(n)))"
   ]
  },
  {
   "cell_type": "code",
   "execution_count": null,
   "metadata": {},
   "outputs": [],
   "source": [
    "%timeit -n 10 RecursiveFibonacci(30)"
   ]
  },
  {
   "cell_type": "markdown",
   "metadata": {},
   "source": [
    "### 2.2. Algoritmo Iterativo"
   ]
  },
  {
   "cell_type": "code",
   "execution_count": null,
   "metadata": {},
   "outputs": [],
   "source": [
    "def IterativeFibonacci(n):\n",
    "    fib = [0, 1]\n",
    "    \n",
    "    if n < 2:\n",
    "        return fib[n]\n",
    "    \n",
    "    for i in range(1, n):\n",
    "        fib = [fib[1], fib[0] + fib[1]]\n",
    "    \n",
    "    return fib[1]"
   ]
  },
  {
   "cell_type": "code",
   "execution_count": null,
   "metadata": {},
   "outputs": [],
   "source": [
    "for n in range(0, 11):\n",
    "    print(\"Término {0:>2d} -> {1:}\".format(n, IterativeFibonacci(n)))"
   ]
  },
  {
   "cell_type": "code",
   "execution_count": null,
   "metadata": {},
   "outputs": [],
   "source": [
    "%timeit -n 10 IterativeFibonacci(30)"
   ]
  },
  {
   "cell_type": "markdown",
   "metadata": {},
   "source": [
    "<h3>2.3. Algoritmo <i>Divide y vencerás</i></h3>"
   ]
  },
  {
   "cell_type": "code",
   "execution_count": null,
   "metadata": {},
   "outputs": [],
   "source": [
    "def DCFibonacci(n):\n",
    "    fib = [0, 1]\n",
    "    \n",
    "    if n < 2:\n",
    "        return fib[n]\n",
    "    \n",
    "    i = n - 1\n",
    "    \n",
    "    b, a = c, d = fib\n",
    "    \n",
    "    while i > 0:\n",
    "        if i % 2 != 0:\n",
    "            a, b = d * b + c * a, d * (b + a) + c * b\n",
    "        \n",
    "        c, d = c * c + d * d, d * (2 * c + d)\n",
    "        \n",
    "        i = i//2\n",
    "    \n",
    "    return a + b"
   ]
  },
  {
   "cell_type": "code",
   "execution_count": null,
   "metadata": {},
   "outputs": [],
   "source": [
    "for n in range(0, 11):\n",
    "    print(\"Término {0:>2d} -> {1:}\".format(n, DCFibonacci(n)))"
   ]
  },
  {
   "cell_type": "code",
   "execution_count": null,
   "metadata": {},
   "outputs": [],
   "source": [
    "%timeit -n 10 DCFibonacci(30)"
   ]
  },
  {
   "cell_type": "markdown",
   "metadata": {},
   "source": [
    "<h3>2.4. <i>Memoization</i></h3>"
   ]
  },
  {
   "cell_type": "markdown",
   "metadata": {},
   "source": [
    "Dado que en las siguientes secciones de este trabajo calcularemos a menudo los términos de la serie de Fibonacci, es conveniente emplear una tecnica que nos permita almacenar los valores ya calculados y consultarlos antes de calcular nuevamente. Para ello haremos uso de la tecnica de optimizacion <i>Memoization</i> mediante el siguiente decorador."
   ]
  },
  {
   "cell_type": "code",
   "execution_count": null,
   "metadata": {},
   "outputs": [],
   "source": [
    "class Memoize:\n",
    "    def __init__(self, f):\n",
    "        self.f = f\n",
    "        self.memo = {}\n",
    "        \n",
    "    def __call__(self, *args):\n",
    "        if args not in self.memo.keys():\n",
    "            self.memo[args] = self.f(*args)\n",
    "        \n",
    "        return self.memo[args]"
   ]
  },
  {
   "cell_type": "markdown",
   "metadata": {},
   "source": [
    "<h4>2.4.1. <i>Memoization</i> del algoritmo recursivo</h4>"
   ]
  },
  {
   "cell_type": "code",
   "execution_count": null,
   "metadata": {},
   "outputs": [],
   "source": [
    "MRFibonacci = Memoize(RecursiveFibonacci)"
   ]
  },
  {
   "cell_type": "code",
   "execution_count": null,
   "metadata": {},
   "outputs": [],
   "source": [
    "%timeit -n 10 MRFibonacci(30)"
   ]
  },
  {
   "cell_type": "markdown",
   "metadata": {},
   "source": [
    "<h4>2.4.2. <i>Memoization</i> del algoritmo iterativo</h4>"
   ]
  },
  {
   "cell_type": "code",
   "execution_count": null,
   "metadata": {},
   "outputs": [],
   "source": [
    "MIFibonacci = Memoize(IterativeFibonacci)"
   ]
  },
  {
   "cell_type": "code",
   "execution_count": null,
   "metadata": {},
   "outputs": [],
   "source": [
    "%timeit -n 10 MIFibonacci(30)"
   ]
  },
  {
   "cell_type": "markdown",
   "metadata": {},
   "source": [
    "<h4>2.4.3. <i>Memoization</i> del algoritmo D&C</h4>"
   ]
  },
  {
   "cell_type": "code",
   "execution_count": null,
   "metadata": {},
   "outputs": [],
   "source": [
    "MDCFibonacci = Memoize(DCFibonacci)"
   ]
  },
  {
   "cell_type": "code",
   "execution_count": null,
   "metadata": {},
   "outputs": [],
   "source": [
    "%timeit -n 10 MDCFibonacci(30)"
   ]
  },
  {
   "cell_type": "markdown",
   "metadata": {},
   "source": [
    "<h3>2.5. Implementación final</h3>"
   ]
  },
  {
   "cell_type": "markdown",
   "metadata": {},
   "source": [
    "En vista de los tiempos de ejecución anteriores finalmente elegimos la implementacion con el algoritmo <i>D&C</i> optimizada."
   ]
  },
  {
   "cell_type": "code",
   "execution_count": null,
   "metadata": {},
   "outputs": [],
   "source": [
    "Fibonacci = Memoize(DCFibonacci)"
   ]
  },
  {
   "cell_type": "markdown",
   "metadata": {},
   "source": [
    "<h2>3. Tabulación de la Sucesión de Fibonacci</h2>"
   ]
  },
  {
   "cell_type": "markdown",
   "metadata": {},
   "source": [
    "Como aplicación de la implementación realizada vamos a tabular algunos de los valores de la sucesión de Fibonacci."
   ]
  },
  {
   "cell_type": "code",
   "execution_count": null,
   "metadata": {},
   "outputs": [],
   "source": [
    "from IPython.display import HTML\n",
    "from IPython.display import display_html\n",
    "from uuid import uuid4\n",
    "\n",
    "table_template = \"\"\"<style>\n",
    "#fibonacci_{uuid:} {{width: 250px;border: 0 none;}}\n",
    "#fibonacci_{uuid:} * {{border: 0 none;text-align: center;}}\n",
    "#fibonacci_{uuid:} caption {{margin: 0 -5rem 0.5rem;border: 0 none;}}\n",
    "#fibonacci_{uuid:} tr:first-child, #fibonacci_{uuid:} tr:last-child {{border-bottom: 1px solid black;}}\n",
    "#fibonacci_{uuid:} tr:first-child {{color: #fafafa;background-color: #212121;}}\n",
    "#fibonacci_{uuid:} tr:nth-child(2n) {{background-color: #dedede;}}\n",
    "#fibonacci_{uuid:} tr td:first-child, #fibonacci_{uuid:} tr th:first-child {{width: 50px;border-right: 1px solid #212121;}}\n",
    "</style><center><table id=\"fibonacci_{uuid:}\">\n",
    "<caption>Primeros 30 términos de la Sucesión de Fibonacci</caption>\n",
    "<tr><th>$n$</th><th nowrap=\"nowrap\">$Fibonacci[n]$</th></tr>\n",
    "{0:}</table></center>\n",
    "\"\"\"\n",
    "\n",
    "table_content = \"\".join(\n",
    "    [\"<tr><td>${n:}$</td><td>${fn:}$</td></tr>\".format(\n",
    "        n=n,\n",
    "        fn=Fibonacci(n)\n",
    "    ) for n in range(1,31)]\n",
    ")\n",
    "\n",
    "table = table_template.format(table_content, uuid=uuid4().hex)\n",
    "\n",
    "display_html(HTML(table))"
   ]
  },
  {
   "cell_type": "markdown",
   "metadata": {},
   "source": [
    "<h3>3.1. Representación Binaria</h3>"
   ]
  },
  {
   "cell_type": "markdown",
   "metadata": {},
   "source": [
    "La representación binaria de los números de Fibonacci la obtenemos de la siguiente forma."
   ]
  },
  {
   "cell_type": "code",
   "execution_count": null,
   "metadata": {},
   "outputs": [],
   "source": [
    "def BinaryFibonacci(n):\n",
    "    return '{0:b}'.format(Fibonacci(n))"
   ]
  },
  {
   "cell_type": "code",
   "execution_count": null,
   "metadata": {},
   "outputs": [],
   "source": [
    "from IPython.display import HTML\n",
    "from IPython.display import display_html\n",
    "from uuid import uuid4\n",
    "\n",
    "table_template = \"\"\"<style>\n",
    "#fibonacci_{uuid:} {{width: 250px;border: 0 none;}}\n",
    "#fibonacci_{uuid:} * {{border: 0 none;text-align: center;}}\n",
    "#fibonacci_{uuid:} caption {{margin: 0 -5rem 0.5rem;border: 0 none;}}\n",
    "#fibonacci_{uuid:} tr:first-child, #fibonacci_{uuid:} tr:last-child {{border-bottom: 1px solid black;}}\n",
    "#fibonacci_{uuid:} tr:first-child {{color: #fafafa;background-color: #212121;}}\n",
    "#fibonacci_{uuid:} tr:nth-child(2n) {{background-color: #dedede;}}\n",
    "#fibonacci_{uuid:} tr td:first-child, #fibonacci_{uuid:} tr th:first-child {{width: 50px;border-right: 1px solid #212121;}}\n",
    "</style><center><table id=\"fibonacci_{uuid:}\">\n",
    "<caption>Primeros 30 términos de la Sucesión de Fibonacci en forma binaria</caption>\n",
    "<tr><th>$n$</th><th nowrap=\"nowrap\">$Fibonacci[n]$</th></tr>\n",
    "{0:}</table></center>\n",
    "\"\"\"\n",
    "\n",
    "table_content = \"\".join(\n",
    "    [\"<tr><td>${n:}$</td><td>${fn:}$</td></tr>\".format(\n",
    "        n=n,\n",
    "        fn=BinaryFibonacci(n)\n",
    "    ) for n in range(1,31)]\n",
    ")\n",
    "\n",
    "table = table_template.format(table_content, uuid=uuid4().hex)\n",
    "\n",
    "display_html(HTML(table))"
   ]
  },
  {
   "cell_type": "markdown",
   "metadata": {},
   "source": [
    "<h2>4. Expresión general y extensión a los reales</h2>"
   ]
  },
  {
   "cell_type": "markdown",
   "metadata": {},
   "source": [
    "<h3>4.1. Expresión general</h3>"
   ]
  },
  {
   "cell_type": "markdown",
   "metadata": {},
   "source": [
    "La ecuación de recurrencia que define a la suceción de Fibonacci es de la forma\n",
    "\n",
    "$$ x_n = A\\,x_{n-1} + B\\,x_{n-2}\\,;\\,n \\geq 3 $$\n",
    "\n",
    "entonces la forma cerrada de $F_n$ esta dada por\n",
    "\n",
    "$$ F_n=\\frac{\\alpha^n-\\beta^n}{\\alpha-\\beta}, $$\n",
    "\n",
    "donde $\\alpha$ y $\\beta$ son las raices de la ecuación $x^2 = A\\,x+B$. Para la secuencia de Fibonacci $A=B=1$, entonces la ecuación anterior convierte en\n",
    "\n",
    "$$ x^2 - x - 1 = 0 $$\n",
    "\n",
    "cuyas raices son\n",
    "\n",
    "$$ x=\\frac{1}{2}\\left(1\\pm\\sqrt{5}\\right). $$\n",
    "\n",
    "Por tanto la forma cerrada de $F_{n}$ es\n",
    "\n",
    "$$ F_n=\\frac{\\left(1+\\sqrt{5}\\right)^n - \\left(1-\\sqrt{5}\\right)^n}{2^{n}\\sqrt{5}}. $$\n",
    "\n",
    "Otras representaciones simbólicas de la expresión general de la sucesión de Fibonacci se pueden obtener manipulando la expresion anterior teniendo en cuenta que\n",
    "\n",
    "$$ \\phi=\\frac{1}{2}\\left(1+\\sqrt{5}\\right). $$\n",
    "\n",
    "es el número áureo. Reemplazando en la expresión de $F_n$ obtenida anteriormente obtenemos $F_n$ en funcion de $\\phi$ como\n",
    "\n",
    "\n",
    "$$ F_n=\\frac{\\phi^n - \\left(-\\phi\\right)^{-n}}{\\sqrt{5}}. $$"
   ]
  },
  {
   "cell_type": "markdown",
   "metadata": {},
   "source": [
    "<h3>4.2. Cálculo por redondeo</h3>"
   ]
  },
  {
   "cell_type": "markdown",
   "metadata": {},
   "source": [
    "En la expresión obtenida anteriromente, podemos observar que\n",
    "\n",
    "$$ \\left|\\frac{\\left(-\\phi\\right)^{-n}}{\\sqrt{5}}\\right| < \\frac{1}{2} \\,;\\, \\forall n \\geq 0, $$\n",
    "\n",
    "entonces podemos expresar $F_n$ mediante la funcion de redondeo $\\left[x\\right]$\n",
    "\n",
    "$$ F_n = \\left[\\frac{\\phi^n}{\\sqrt{5}}\\right] $$\n"
   ]
  },
  {
   "cell_type": "code",
   "execution_count": null,
   "metadata": {},
   "outputs": [],
   "source": [
    "from math import *\n",
    "\n",
    "def RoundFibonacci(n):\n",
    "    phi = 0.5 * (1 + sqrt(5))\n",
    "    \n",
    "    return round((phi**n) / sqrt(5))"
   ]
  },
  {
   "cell_type": "code",
   "execution_count": null,
   "metadata": {},
   "outputs": [],
   "source": [
    "for n in range(0, 11):\n",
    "    print(\"Término {0:>2d} -> {1:}\".format(n, RoundFibonacci(n)))"
   ]
  },
  {
   "cell_type": "code",
   "execution_count": null,
   "metadata": {},
   "outputs": [],
   "source": [
    "%timeit -n 10 RoundFibonacci(30)"
   ]
  },
  {
   "cell_type": "code",
   "execution_count": null,
   "metadata": {},
   "outputs": [],
   "source": [
    "from IPython.display import HTML\n",
    "from IPython.display import display_html\n",
    "from uuid import uuid4\n",
    "\n",
    "table_template = \"\"\"<style>\n",
    "#fibonacci_{uuid:} {{width: 600px;border: 0 none;}}\n",
    "#fibonacci_{uuid:} * {{border: 0 none;text-align: center;}}\n",
    "#fibonacci_{uuid:} caption {{margin: 0 -5rem 0.5rem;border: 0 none;}}\n",
    "#fibonacci_{uuid:} tr:first-child, #fibonacci_{uuid:} tr:last-child {{border-bottom: 1px solid black;}}\n",
    "#fibonacci_{uuid:} tr:first-child {{color: #fafafa;background-color: #212121;}}\n",
    "#fibonacci_{uuid:} tr:nth-child(2n) {{background-color: #dedede;}}\n",
    "#fibonacci_{uuid:} tr td:first-child, #fibonacci_{uuid:} tr th:first-child {{width: 50px;border-right: 1px solid #212121;}}\n",
    "</style><center><table id=\"fibonacci_{uuid:}\">\n",
    "<caption>Términos 60 - 80 de la Sucesión de Fibonacci</caption>\n",
    "<tr><th>$n$</th><th>$Fibonacci[n]$</th><th>$RoundFibonacci[n]$</th><th>$Difference[n]$</th></tr>\n",
    "{0:}</table></center>\n",
    "\"\"\"\n",
    "\n",
    "table_content = \"\".join(\n",
    "    [\"<tr><td>${n:}$</td><td>${fn:}$</td><td {attr}>${rfn:}$</td><td {attr}>${diff:}$</td></tr>\".format(\n",
    "        n=n,\n",
    "        fn=Fibonacci(n),\n",
    "        rfn=RoundFibonacci(n),\n",
    "        diff=Fibonacci(n) - RoundFibonacci(n),\n",
    "        attr=\"style=\\\"color:#f44336;\\\"\" if RoundFibonacci(n) != Fibonacci(n) else None\n",
    "    ) for n in range(60,81)]\n",
    ")\n",
    "\n",
    "table = table_template.format(table_content, uuid=uuid4().hex)\n",
    "\n",
    "display_html(HTML(table))"
   ]
  },
  {
   "cell_type": "markdown",
   "metadata": {},
   "source": [
    "Como se puede ver en la tabla anterior el cálculo por redondeo nos da el valor exacto hasta el término 70 de la sucesión, sin embargo, luego este término, el error de cálculo crece conforme lo hace $n$."
   ]
  },
  {
   "cell_type": "markdown",
   "metadata": {},
   "source": [
    "<h2>4. Extensiones</h2>"
   ]
  },
  {
   "cell_type": "markdown",
   "metadata": {},
   "source": [
    "<h3>4.1. Extensión a los enteros</h3>"
   ]
  },
  {
   "cell_type": "markdown",
   "metadata": {},
   "source": [
    "Por medio de la expresión obtenida para $F_n$ en función de $\\phi$, se puede extender $F_n$ para $n < 0$ mediante\n",
    "\n",
    "$$F_{-n} = (-1)^{n+1}F_{n}$$"
   ]
  },
  {
   "cell_type": "markdown",
   "metadata": {},
   "source": [
    "<h3>4.2. Extensión a los reales</h3>"
   ]
  },
  {
   "cell_type": "markdown",
   "metadata": {},
   "source": [
    "La expresion de $F_n$ en funcion de $\\phi$ tambien nos permite extenderla $F_n$ a los reales mediante la identidad $\\mathrm{e}^{\\pi i}=-1$ dando origen a\n",
    "\n",
    "$$ F_{\\nu}=\\frac{1}{\\sqrt{5}}\\left(\\phi^{\\nu} - \\left(\\frac{1}{\\phi}\\right)^{\\nu}\\cos\\left(\\nu\\pi\\right)\\right). $$\n",
    "\n",
    "La función $F_{\\nu}$ tiene sus ceros en los puntos en los cuales se cumple la condicion\n",
    "\n",
    "$$ \\phi^{2\\nu} = \\cos\\left(\\nu\\pi\\right). $$"
   ]
  },
  {
   "cell_type": "markdown",
   "metadata": {},
   "source": [
    "<h3>4.3. Extensión de la implementación en Python</h3>"
   ]
  },
  {
   "cell_type": "markdown",
   "metadata": {},
   "source": [
    "Con las observaciones anteriores extenderemos la definicion de nuestra función <code>Fibonacci</code>."
   ]
  },
  {
   "cell_type": "code",
   "execution_count": null,
   "metadata": {},
   "outputs": [],
   "source": [
    "from math import *\n",
    "\n",
    "def NMFibonacci(x):\n",
    "    if isinstance(x, int):\n",
    "        if x < 0:\n",
    "            x = abs(x)\n",
    "            \n",
    "            return (-1)**(x+1) * DCFibonacci(x)\n",
    "        \n",
    "        return DCFibonacci(x)\n",
    "    \n",
    "    phi = 0.5*(1 + sqrt(5))\n",
    "    \n",
    "    return (phi**x - cos(x*pi) * (phi)**(-x))/sqrt(5)\n"
   ]
  },
  {
   "cell_type": "code",
   "execution_count": null,
   "metadata": {},
   "outputs": [],
   "source": [
    "Fibonacci = Memoize(NMFibonacci)"
   ]
  },
  {
   "cell_type": "code",
   "execution_count": null,
   "metadata": {},
   "outputs": [],
   "source": [
    "for n in range(0, 11):\n",
    "    print(\"Término {0:>2d} -> {1:}\".format(n, Fibonacci(n)))"
   ]
  },
  {
   "cell_type": "code",
   "execution_count": null,
   "metadata": {},
   "outputs": [],
   "source": [
    "%timeit -n 10 Fibonacci(30)"
   ]
  },
  {
   "cell_type": "markdown",
   "metadata": {},
   "source": [
    "<h2>5. Gráficos</h2>"
   ]
  },
  {
   "cell_type": "markdown",
   "metadata": {},
   "source": [
    "La secuencia de Fibonacci se encuentra en múltiples configuraciones biológicas, donde aparecen números consecutivos de la sucesión, como en la distribución de las ramas de los árboles, la distribución de las hojas en un tallo, los frutos de la piña tropical, las flores de la alcachofa, en las piñas de las coníferas, o en el \"árbol genealógico\" de las abejas melíferas.\n",
    "\n",
    "En esta sección veremos algunos ejemplos gráficos que hacen uso de la serie de Fibonacci."
   ]
  },
  {
   "cell_type": "markdown",
   "metadata": {},
   "source": [
    "<h3>5.1. Ajustes generales para todos los gráficos</h3>"
   ]
  },
  {
   "cell_type": "code",
   "execution_count": null,
   "metadata": {},
   "outputs": [],
   "source": [
    "%matplotlib inline"
   ]
  },
  {
   "cell_type": "code",
   "execution_count": null,
   "metadata": {},
   "outputs": [],
   "source": [
    "# Ajustes generales para los gráficos\n",
    "# Para poder usar 'usetex=True' es necesario haber instalado latex\n",
    "from matplotlib.font_manager import *\n",
    "from matplotlib.collections import *\n",
    "from matplotlib.patches import *\n",
    "from matplotlib.pylab import *\n",
    "\n",
    "import gc\n",
    "\n",
    "ioff()\n",
    "\n",
    "rc('lines', linewidth=1)\n",
    "rc('font', family='serif')\n",
    "\n",
    "font_title = FontProperties(size=18)\n",
    "font_label = FontProperties(size=14, style='italic')\n",
    "font_ticks = FontProperties(size=12)\n",
    "font_legend = FontProperties(size=13)"
   ]
  },
  {
   "cell_type": "markdown",
   "metadata": {},
   "source": [
    "<h3>5.2. Gráficos Discretos</h3>"
   ]
  },
  {
   "cell_type": "markdown",
   "metadata": {},
   "source": [
    "<h4>5.2.1. Sucesión de Fibonacci</h4>"
   ]
  },
  {
   "cell_type": "code",
   "execution_count": null,
   "metadata": {},
   "outputs": [],
   "source": [
    "fig = figure(figsize=(9, 6), frameon=False)\n",
    "axs = fig.add_subplot('111')\n",
    "\n",
    "x = range(1,11)\n",
    "y = [Fibonacci(n) for n in x]\n",
    "\n",
    "markerline, stemlines, baseline = axs.stem(x, y)\n",
    "\n",
    "setp(baseline, 'color', '#64dd17')\n",
    "setp(markerline, 'color', '#64dd17')\n",
    "\n",
    "for stemline in stemlines:\n",
    "    setp(stemline, 'color', '#64dd17')\n",
    "\n",
    "axs.set_axisbelow(True)\n",
    "axs.set_facecolor('#fafafa')\n",
    "axs.tick_params(length=0, width=0)\n",
    "axs.spines['top'].set_color('#fafafa')\n",
    "axs.spines['right'].set_color('#fafafa')\n",
    "axs.spines['bottom'].set_color('#212121')\n",
    "axs.spines['left'].set_color('#212121')\n",
    "\n",
    "axs.set_xlim(0, 11)\n",
    "axs.set_xticks(range(0,12))\n",
    "axs.set_xticklabels(range(0,12), fontproperties=font_ticks)\n",
    "axs.set_xlabel(\"n\", fontproperties=font_label, labelpad=10)\n",
    "\n",
    "axs.set_ylim(0, 60)\n",
    "axs.set_yticks(range(0,70,10))\n",
    "axs.set_yticklabels(range(0,70,10), fontproperties=font_ticks)\n",
    "axs.set_ylabel(\"Fibonacci[n]\", fontproperties=font_label, labelpad=10)\n",
    "\n",
    "axs.set_title(\"Sucesión de Fibonacci\", fontproperties=font_title, y=1.025)\n",
    "\n",
    "axs.grid(linestyle='--', color='#dedede')\n",
    "\n",
    "draw()\n",
    "tight_layout()\n",
    "show()\n",
    "\n",
    "fig.clf()\n",
    "close()\n",
    "gc.collect();"
   ]
  },
  {
   "cell_type": "markdown",
   "metadata": {},
   "source": [
    "<h4>5.2.2. Sucesión de Fibonacci módulo 10</h4>"
   ]
  },
  {
   "cell_type": "code",
   "execution_count": null,
   "metadata": {},
   "outputs": [],
   "source": [
    "fig = figure(figsize=(11.75, 6), frameon=False)\n",
    "axs = fig.add_subplot('111')\n",
    "\n",
    "x = range(1,200)\n",
    "y = [Fibonacci(n)%10 for n in x]\n",
    "\n",
    "axs.plot(\n",
    "    x,\n",
    "    y,\n",
    "    linestyle='--',\n",
    "    linewidth=1,\n",
    "    color='#212121',\n",
    "    marker='o',\n",
    "    markerfacecolor='#ffc107',\n",
    "    markeredgecolor='#ffc107')\n",
    "\n",
    "axs.plot(\n",
    "    [60, 60],\n",
    "    [0, 10],\n",
    "    linestyle='-',\n",
    "    linewidth=1,\n",
    "    color='#f44336')\n",
    "\n",
    "axs.plot(\n",
    "    [120, 120],\n",
    "    [0, 10],\n",
    "    linestyle='-',\n",
    "    linewidth=1,\n",
    "    color='#f44336')\n",
    "\n",
    "axs.plot(\n",
    "    [180, 180],\n",
    "    [0, 10],\n",
    "    linestyle='-',\n",
    "    linewidth=1,\n",
    "    color='#f44336')\n",
    "\n",
    "axs.set_axisbelow(True)\n",
    "axs.set_facecolor('#fafafa')\n",
    "axs.tick_params(length=0, width=0)\n",
    "axs.spines['top'].set_color('#fafafa')\n",
    "axs.spines['right'].set_color('#fafafa')\n",
    "axs.spines['bottom'].set_color('#212121')\n",
    "axs.spines['left'].set_color('#212121')\n",
    "\n",
    "axs.set_xlim(0, 200)\n",
    "axs.set_xticks(range(0,201,10))\n",
    "axs.set_xticklabels(range(0,201,10), fontproperties=font_ticks)\n",
    "axs.set_xlabel(\"n\", fontproperties=font_label, labelpad=10)\n",
    "\n",
    "axs.set_ylim(0, 10)\n",
    "axs.set_yticks(range(0,11,1))\n",
    "axs.set_yticklabels(range(0,11,1), fontproperties=font_ticks)\n",
    "axs.set_ylabel(\"Fibonacci[n] % 10\", fontproperties=font_label, labelpad=10)\n",
    "\n",
    "axs.set_title(\"Sucesión de Fibonacci módulo 10\", fontproperties=font_title, y=1.025)\n",
    "\n",
    "axs.grid(linestyle='--', color='#dedede')\n",
    "\n",
    "draw()\n",
    "tight_layout()\n",
    "show()\n",
    "\n",
    "fig.clf()\n",
    "close()\n",
    "gc.collect();"
   ]
  },
  {
   "cell_type": "markdown",
   "metadata": {},
   "source": [
    "<h4>5.2.3. Sucesión de Fibonacci módulo n</h4>"
   ]
  },
  {
   "cell_type": "code",
   "execution_count": null,
   "metadata": {},
   "outputs": [],
   "source": [
    "fig = figure(figsize=(11.75, 6), frameon=False)\n",
    "axs = fig.add_subplot('111')\n",
    "\n",
    "x = range(1,200)\n",
    "y = [Fibonacci(n)%n for n in x]\n",
    "\n",
    "axs.plot(\n",
    "    x,\n",
    "    y,\n",
    "    linestyle='--',\n",
    "    linewidth=1,\n",
    "    color='#212121',\n",
    "    marker='o',\n",
    "    markerfacecolor='#ffc107',\n",
    "    markeredgecolor='#ffc107')\n",
    "\n",
    "axs.set_axisbelow(True)\n",
    "axs.set_facecolor('#fafafa')\n",
    "axs.tick_params(length=0, width=0)\n",
    "axs.spines['top'].set_color('#fafafa')\n",
    "axs.spines['right'].set_color('#fafafa')\n",
    "axs.spines['bottom'].set_color('#212121')\n",
    "axs.spines['left'].set_color('#212121')\n",
    "\n",
    "axs.set_xlim(0, 200)\n",
    "axs.set_xticks(range(0,201,10))\n",
    "axs.set_xticklabels(range(0,201,10), fontproperties=font_ticks)\n",
    "axs.set_xlabel(\"n\", fontproperties=font_label, labelpad=10)\n",
    "\n",
    "axs.set_ylim(0, 200)\n",
    "axs.set_yticks(range(0,201,20))\n",
    "axs.set_yticklabels(range(0,201,20), fontproperties=font_ticks)\n",
    "axs.set_ylabel(\"Fibonacci[n] % n\", fontproperties=font_label, labelpad=10)\n",
    "\n",
    "axs.set_title(\"Sucesión de Fibonacci módulo n\", fontproperties=font_title, y=1.025)\n",
    "\n",
    "axs.grid(linestyle='--', color='#dedede')\n",
    "\n",
    "draw()\n",
    "tight_layout()\n",
    "show()\n",
    "\n",
    "fig.clf()\n",
    "close()\n",
    "gc.collect();"
   ]
  },
  {
   "cell_type": "markdown",
   "metadata": {},
   "source": [
    "<h4>5.2.4. Extensión a los números negativos</h4>"
   ]
  },
  {
   "cell_type": "code",
   "execution_count": null,
   "metadata": {},
   "outputs": [],
   "source": [
    "fig = figure(figsize=(12, 8), frameon=False)\n",
    "axs = fig.add_subplot('111')\n",
    "\n",
    "x = range(-10,11)\n",
    "y = [Fibonacci(n) for n in x]\n",
    "\n",
    "markerline, stemlines, baseline = axs.stem(x, y)\n",
    "\n",
    "setp(baseline, 'color', '#64dd17')\n",
    "setp(markerline, 'color', '#64dd17')\n",
    "for stemline in stemlines:\n",
    "    setp(stemline, 'color', '#64dd17')\n",
    "\n",
    "axs.set_axisbelow(True)\n",
    "axs.set_facecolor('#fafafa')\n",
    "axs.tick_params(length=0, width=0)\n",
    "axs.spines['top'].set_color('#fafafa')\n",
    "axs.spines['right'].set_color('#fafafa')\n",
    "axs.spines['bottom'].set_color('#212121')\n",
    "axs.spines['left'].set_color('#212121')\n",
    "\n",
    "axs.set_xlim(-11, 11)\n",
    "axs.set_xticks(range(-11,12))\n",
    "axs.set_xticklabels(range(-11,12), fontproperties=font_ticks)\n",
    "axs.set_xlabel(\"n\", fontproperties=font_label, labelpad=10)\n",
    "\n",
    "axs.set_ylim(-60, 60)\n",
    "axs.set_yticks(range(-60,70,10))\n",
    "axs.set_yticklabels(range(-60,70,10), fontproperties=font_ticks)\n",
    "axs.set_ylabel(\"Fibonacci[n]\", fontproperties=font_label, labelpad=10)\n",
    "\n",
    "axs.set_title(\"Extensión de la sucesión de Fibonacci a los enteros\", fontproperties=font_title, y=1.025)\n",
    "\n",
    "axs.grid(linestyle='--', color='#dedede')\n",
    "\n",
    "draw()\n",
    "tight_layout()\n",
    "show()\n",
    "\n",
    "fig.clf()\n",
    "close()\n",
    "gc.collect();"
   ]
  },
  {
   "cell_type": "markdown",
   "metadata": {},
   "source": [
    "<h4>5.2.5. Representación en forma binaria</h4>"
   ]
  },
  {
   "cell_type": "code",
   "execution_count": null,
   "metadata": {},
   "outputs": [],
   "source": [
    "fig = figure(figsize=(9, 6), frameon=False)\n",
    "axs = fig.add_subplot('111')\n",
    "\n",
    "BinaryFibonacciMatrix = [[int(d) for d in \"{0:0>600s}\".format(BinaryFibonacci(n))] for n in range (1, 600)]\n",
    "BinaryFibonacciMatrix = array(BinaryFibonacciMatrix ,dtype=int)\n",
    "BinaryFibonacciMatrix = BinaryFibonacciMatrix.transpose()\n",
    "mask = [i for i, row in enumerate(BinaryFibonacciMatrix) if not any(row)]\n",
    "BinaryFibonacciMatrix = delete(BinaryFibonacciMatrix, mask, 0)\n",
    "\n",
    "axs.imshow(BinaryFibonacciMatrix, cmap='Greys')\n",
    "axs.set_title(\n",
    "    \"Gráfico binario de la Suceción de Fibonacci\",\n",
    "    fontproperties=font_title,\n",
    "    horizontalalignment='left',\n",
    "    verticalalignment='top',\n",
    "    x=0,\n",
    "    y=1,\n",
    ")\n",
    "axs.axis('off')\n",
    "\n",
    "draw()\n",
    "tight_layout()\n",
    "show()"
   ]
  },
  {
   "cell_type": "markdown",
   "metadata": {},
   "source": [
    "<h3>5.3. Gráficos Continuos</h3>"
   ]
  },
  {
   "cell_type": "markdown",
   "metadata": {},
   "source": [
    "<h4>5.3.1. Función de Fibonacci</h4>"
   ]
  },
  {
   "cell_type": "code",
   "execution_count": null,
   "metadata": {},
   "outputs": [],
   "source": [
    "fig = figure(figsize=(12, 8), frameon=False)\n",
    "axs = fig.add_subplot('111')\n",
    "\n",
    "x = linspace(-10,10,500)\n",
    "y = [Fibonacci(nu) for nu in x]\n",
    "axs.plot(\n",
    "    x,\n",
    "    y,\n",
    "    linestyle='--',\n",
    "    color='#212121',\n",
    "    label=\"Función de Fibonacci\")\n",
    "\n",
    "x = linspace(-10,10,21)\n",
    "y = [Fibonacci(nu) for nu in x]\n",
    "\n",
    "markerline, stemlines, baseline = axs.stem(\n",
    "    x,\n",
    "    y,\n",
    "    label=\"Sucesión de Fibonacci\")\n",
    "\n",
    "setp(baseline, 'color', '#ffc107')\n",
    "setp(markerline, 'color', '#ffc107')\n",
    "for stemline in stemlines:\n",
    "    setp(stemline, 'color', '#ffc107')\n",
    "\n",
    "axs.set_axisbelow(True)\n",
    "axs.set_facecolor('#fafafa')\n",
    "axs.tick_params(length=0, width=0)\n",
    "axs.spines['top'].set_color('#fafafa')\n",
    "axs.spines['right'].set_color('#fafafa')\n",
    "axs.spines['bottom'].set_color('#212121')\n",
    "axs.spines['left'].set_color('#212121')\n",
    "\n",
    "axs.set_xlim(-11, 11)\n",
    "axs.set_xticks(range(-11,12))\n",
    "axs.set_xticklabels(range(-11,12), fontproperties=font_ticks)\n",
    "axs.set_xlabel(\"x\", fontproperties=font_label, labelpad=10)\n",
    "\n",
    "axs.set_ylim(-60, 60)\n",
    "axs.set_yticks(range(-60,70,10))\n",
    "axs.set_yticklabels(range(-60,70,10), fontproperties=font_ticks)\n",
    "axs.set_ylabel(\"Fibonacci[x]\", fontproperties=font_label, labelpad=10)\n",
    "\n",
    "axs.set_title(\"Función de Fibonacci\", fontproperties=font_title, y=1.025)\n",
    "\n",
    "axs.grid(linestyle='--', color='#dedede')\n",
    "\n",
    "axs.legend(loc=4, prop=font_legend, title='Leyenda')\n",
    "\n",
    "draw()\n",
    "tight_layout()\n",
    "show()\n",
    "\n",
    "fig.clf()\n",
    "close()\n",
    "gc.collect();"
   ]
  },
  {
   "cell_type": "markdown",
   "metadata": {},
   "source": [
    "<h4>5.3.2. Los ceros de la Función de Fibonacci</h4>"
   ]
  },
  {
   "cell_type": "code",
   "execution_count": null,
   "metadata": {},
   "outputs": [],
   "source": [
    "from scipy.optimize import fsolve\n",
    "\n",
    "fig = figure(figsize=(12, 8), frameon=False)\n",
    "axs = fig.add_subplot('111')\n",
    "\n",
    "x = linspace(-10,10,500)\n",
    "y = [Fibonacci(nu) for nu in x]\n",
    "axs.plot(\n",
    "    x,\n",
    "    y,\n",
    "    linestyle='--',\n",
    "    color='#212121',\n",
    "    label=\"Función de Fibonacci\")\n",
    "\n",
    "x = [fsolve(NMFibonacci, nu + 0.5) for nu in linspace(-10,0,11)]\n",
    "y = [0 for nu in x]\n",
    "axs.plot(\n",
    "    x,\n",
    "    y,\n",
    "    linewidth=0,\n",
    "    marker='o',\n",
    "    markerfacecolor='#f44336',\n",
    "    markeredgecolor='#f44336',\n",
    "    label=\"Ceros de la función de Fibonacci\")\n",
    "\n",
    "axs.set_axisbelow(True)\n",
    "axs.set_facecolor('#fafafa')\n",
    "axs.tick_params(length=0, width=0)\n",
    "axs.spines['top'].set_color('#fafafa')\n",
    "axs.spines['right'].set_color('#fafafa')\n",
    "axs.spines['bottom'].set_color('#212121')\n",
    "axs.spines['left'].set_color('#212121')\n",
    "\n",
    "axs.set_xlim(-11, 11)\n",
    "axs.set_xticks(range(-11,12))\n",
    "axs.set_xticklabels(range(-11,12), fontproperties=font_ticks)\n",
    "axs.set_xlabel(\"x\", fontproperties=font_label, labelpad=10)\n",
    "\n",
    "axs.set_ylim(-60, 60)\n",
    "axs.set_yticks(range(-60,70,10))\n",
    "axs.set_yticklabels(range(-60,70,10), fontproperties=font_ticks)\n",
    "axs.set_ylabel(\"Fibonacci[x]\", fontproperties=font_label, labelpad=10)\n",
    "\n",
    "axs.set_title(\"Función de Fibonacci\", fontproperties=font_title, y=1.025)\n",
    "\n",
    "axs.grid(linestyle='--', color='#dedede')\n",
    "\n",
    "axs.legend(loc=4, prop=font_legend, title='Leyenda')\n",
    "\n",
    "draw()\n",
    "tight_layout()\n",
    "show()\n",
    "\n",
    "fig.clf()\n",
    "close()\n",
    "gc.collect();"
   ]
  },
  {
   "cell_type": "markdown",
   "metadata": {},
   "source": [
    "<h3>5.4. Gráficos Geométricos</h3>"
   ]
  },
  {
   "cell_type": "markdown",
   "metadata": {},
   "source": [
    "<h4>5.4.1. La espiral de Fibonacci</h4>"
   ]
  },
  {
   "cell_type": "code",
   "execution_count": null,
   "metadata": {},
   "outputs": [],
   "source": [
    "fig = figure(figsize=[12, 8], frameon=False)\n",
    "axs = fig.add_subplot('111')\n",
    "\n",
    "origin = array([0, 0])\n",
    "center = origin\n",
    "theta = array([270, 0])\n",
    "\n",
    "n_max=10\n",
    "\n",
    "for n in range(1,n_max+1):\n",
    "    theta = theta + 90\n",
    "    \n",
    "    order = (n - 1) % 4 + 1\n",
    "    \n",
    "    fib_n = Fibonacci(n)\n",
    "    radius = fib_n\n",
    "    height = fib_n\n",
    "    width = fib_n\n",
    "    \n",
    "    if order == 1:\n",
    "        origin = origin + [-Fibonacci(n-2), Fibonacci(n-1)]\n",
    "        center = center + [-Fibonacci(n-2), 0]\n",
    "        \n",
    "    elif order == 2:\n",
    "        origin = origin + [-Fibonacci(n), -Fibonacci(n-2)]\n",
    "        center = center + [0, -Fibonacci(n-2) ]\n",
    "        \n",
    "    elif order == 3:\n",
    "        origin = origin + [0, -Fibonacci(n)]\n",
    "        center = center + [Fibonacci(n-2) , 0]\n",
    "\n",
    "    elif order == 4:\n",
    "        origin = origin + [Fibonacci(n-1), 0]\n",
    "        center = center + [0, Fibonacci(n-2)]\n",
    "        \n",
    "    # Add a rectangle\n",
    "    rectangle = Rectangle(origin, height, width, linewidth=0, color=\"#212121\")\n",
    "    axs.add_patch(rectangle)\n",
    "    \n",
    "    # Add a wedge\n",
    "    wedge = Wedge(center, radius, theta1=theta[0] , theta2=theta[1], color=\"#ffa000\")\n",
    "    axs.add_patch(wedge)\n",
    "    \n",
    "    text(\n",
    "        *(origin + [0.5*height,  0.5*width]),\n",
    "        \"{0:}\".format(fib_n),\n",
    "        horizontalalignment='center',\n",
    "        verticalalignment='center',\n",
    "        family='serif',\n",
    "        size=n*2,\n",
    "        color='#fafafa',\n",
    "    )\n",
    "\n",
    "axs.set_title(\"La espiral de fibonacci\",\n",
    "    fontproperties=font_title,\n",
    "    horizontalalignment='center',\n",
    "    verticalalignment='center',\n",
    "    x=0.50,\n",
    "    y=0.95,\n",
    ")\n",
    "\n",
    "axs.set_facecolor('#ff0000')\n",
    "axs.axis('equal')\n",
    "axs.axis('off')\n",
    "axs.grid('off')\n",
    "\n",
    "draw()\n",
    "tight_layout()\n",
    "show()\n",
    "\n",
    "fig.clf()\n",
    "close()\n",
    "gc.collect();"
   ]
  },
  {
   "cell_type": "markdown",
   "metadata": {},
   "source": [
    "<h4>5.4.2. Modelo de Vogel para la distribución de semillas girasol</h4>"
   ]
  },
  {
   "cell_type": "markdown",
   "metadata": {},
   "source": [
    "Para este gráfico necesitaremos el denominado <i>Ángulo de oro</i> que viene dado por\n",
    "\n",
    "$$ \\psi = \\frac{2\\pi}{\\phi^2} \\approx 137.507764^\\circ .$$\n",
    "\n",
    "Teniendo en cuenta las propiedades del número áureo $\\phi$, podemos expresar $\\psi$ como\n",
    "\n",
    "$$ \\psi = 2\\pi\\left(2-\\phi\\right)$$\n",
    "\n",
    "que es la representación que emplearemos para calcular $\\psi$ en este gráfico."
   ]
  },
  {
   "cell_type": "code",
   "execution_count": null,
   "metadata": {},
   "outputs": [],
   "source": [
    "X = 0\n",
    "Y = 1\n",
    "\n",
    "discs=500\n",
    "colors=34\n",
    "\n",
    "divider=100\n",
    "lower=0\n",
    "upper=100\n",
    "columns=4\n",
    "rows=25\n",
    "\n",
    "scale=4\n",
    "\n",
    "fig = figure(figsize=[columns*scale, rows*scale], frameon=False)\n",
    "\n",
    "for index, delta in enumerate([n * pi / divider for n in range(lower, upper)]):\n",
    "    axs = fig.add_subplot(rows, columns, index+1)\n",
    "    origin = array([0, 0])\n",
    "    \n",
    "    phi = (1 + (5 ** 0.5)) / 2.0\n",
    "    psi = (2 * pi) + (2 - phi)\n",
    "    delta = psi + delta\n",
    "    theta = 0\n",
    "    \n",
    "    k = 0.2\n",
    "    radius = k * (1 + (5 ** 0.5)) / 4.0\n",
    "\n",
    "    color_step = 100 / colors\n",
    "    color_cycle = [(n % colors) * color_step for n in range(discs)]\n",
    "    patches = []\n",
    "    \n",
    "    for n in range(1, discs+1):\n",
    "        r = k * (n ** 0.5)\n",
    "        theta = theta + delta\n",
    "        \n",
    "        x = origin[X] + (r * cos(theta))\n",
    "        y = origin[Y] + (r * sin(theta))\n",
    "\n",
    "        disc = Circle((x, y), radius)\n",
    "        patches.append(disc)\n",
    "        \n",
    "    patches = PatchCollection(patches, cmap=matplotlib.cm.jet, alpha=1.0)\n",
    "    patches.set_array(array(color_cycle))\n",
    "    \n",
    "    axs.add_collection(patches)\n",
    "    axs.set_xticks([])\n",
    "    axs.set_yticks([])\n",
    "    \n",
    "    axs.set_facecolor('#fafafa')\n",
    "    axs.spines['top'].set_linewidth(3)\n",
    "    axs.spines['top'].set_color('#212121')\n",
    "    axs.spines['right'].set_linewidth(0)\n",
    "    axs.spines['right'].set_color('#fafafa')\n",
    "    axs.spines['bottom'].set_linewidth(0)\n",
    "    axs.spines['bottom'].set_color('#fafafa')\n",
    "    axs.spines['left'].set_linewidth(0)\n",
    "    axs.spines['left'].set_color('#fafafa')\n",
    "\n",
    "    axs.set_title(\"Delta: {0: >5.2f}PI rad\".format((index + lower)/divider, divider),\n",
    "        fontproperties=font_title,\n",
    "        horizontalalignment='left',\n",
    "        verticalalignment='bottom',\n",
    "        x=0,\n",
    "        y=1,\n",
    "    )\n",
    "    \n",
    "    axs.axis('equal')\n",
    "    \n",
    "draw()\n",
    "tight_layout()\n",
    "show()\n",
    "\n",
    "fig.clf()\n",
    "close()\n",
    "gc.collect();"
   ]
  },
  {
   "cell_type": "markdown",
   "metadata": {},
   "source": [
    "<h2>6. Referencias</h2>"
   ]
  },
  {
   "cell_type": "markdown",
   "metadata": {},
   "source": [
    "1. [Fibonacci Number, Wolfram Mathworld](http://mathworld.wolfram.com/FibonacciNumber.html)\n",
    "2. [Goldern Ratio, Wolfram Mathworld](http://mathworld.wolfram.com/GoldenRatio.html)\n",
    "3. [Golden Angle, Wolfram Mathworld](http://mathworld.wolfram.com/GoldenAngle.html) \n",
    "4. [Fibonacci Sequence, Wikipedia](https://en.wikipedia.org/wiki/Fibonacci_sequence)\n",
    "5. [Golden Ratio, Wikipedia](https://en.wikipedia.org/wiki/Golden_ratio) "
   ]
  }
 ],
 "metadata": {
  "kernelspec": {
   "display_name": "Python 3",
   "language": "python",
   "name": "python3"
  },
  "language_info": {
   "codemirror_mode": {
    "name": "ipython",
    "version": 3
   },
   "file_extension": ".py",
   "mimetype": "text/x-python",
   "name": "python",
   "nbconvert_exporter": "python",
   "pygments_lexer": "ipython3",
   "version": "3.8.1"
  }
 },
 "nbformat": 4,
 "nbformat_minor": 4
}
