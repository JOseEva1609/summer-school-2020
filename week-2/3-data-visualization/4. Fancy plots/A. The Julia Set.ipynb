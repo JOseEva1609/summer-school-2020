{
 "cells": [
  {
   "cell_type": "markdown",
   "metadata": {},
   "source": [
    "# Introducción a la Computación de alto rendimiento con Python"
   ]
  },
  {
   "cell_type": "markdown",
   "metadata": {},
   "source": [
    "<hr/>"
   ]
  },
  {
   "cell_type": "markdown",
   "metadata": {},
   "source": [
    "*Por: Martin Vuelta ([zodiacfireworks](https://github.com/zodiacfireworks))*"
   ]
  },
  {
   "cell_type": "markdown",
   "metadata": {},
   "source": [
    "*Email:* `martin.vuelta@softbutterfly.io`"
   ]
  },
  {
   "cell_type": "markdown",
   "metadata": {},
   "source": [
    "<hr/>"
   ]
  },
  {
   "cell_type": "markdown",
   "metadata": {
    "nbpresent": {
     "id": "4cb696f5-ad96-412e-9cef-9538789e2354"
    },
    "slideshow": {
     "slide_type": "slide"
    }
   },
   "source": [
    "## 1. El conjunto de Julia"
   ]
  },
  {
   "cell_type": "markdown",
   "metadata": {
    "nbpresent": {
     "id": "b721934b-b5f3-434e-b237-d4863cf44308"
    },
    "slideshow": {
     "slide_type": "fragment"
    }
   },
   "source": [
    "Dada una funcion racional $R(z)$ "
   ]
  },
  {
   "cell_type": "markdown",
   "metadata": {
    "nbpresent": {
     "id": "d594ddd4-89a3-4866-9cc2-27f8952e7d3b"
    },
    "slideshow": {
     "slide_type": "fragment"
    }
   },
   "source": [
    "$$R\\left(z\\right)=\\frac{P\\left(z\\right)}{Q\\left(z\\right)}$$"
   ]
  },
  {
   "cell_type": "markdown",
   "metadata": {
    "nbpresent": {
     "id": "b819078f-996a-4759-8118-5b6144108483"
    },
    "slideshow": {
     "slide_type": "fragment"
    }
   },
   "source": [
    "donde $z \\in \\mathbb{C}^*$, siendo $\\mathbb{C}^*$ la esfera de Riemann ($\\mathbb{C} \\cup {\\infty}$), y $P$ y Q son funciones polinomiales sin factores comunes entre si. El conjunto de Julia, $J_R$, es la frontera del conjunto de puntos $z$ que no se aproximan al infinito despues de sucesivas aplicaciones de $R(z)$."
   ]
  },
  {
   "cell_type": "markdown",
   "metadata": {
    "nbpresent": {
     "id": "d07b6274-b113-469a-a4f9-5cafe0bbbffc"
    },
    "slideshow": {
     "slide_type": "fragment"
    }
   },
   "source": [
    "Para este taller nos ocupan los denominados conjuntos cuadráticos de Julia que son generados por el mapeo cuadratico recurrente"
   ]
  },
  {
   "cell_type": "markdown",
   "metadata": {
    "nbpresent": {
     "id": "ca692b22-cf5f-485b-8e7e-d802f7368dce"
    },
    "slideshow": {
     "slide_type": "fragment"
    }
   },
   "source": [
    "$$z_{(n+1)}=z_{n}^{2}+c$$"
   ]
  },
  {
   "cell_type": "markdown",
   "metadata": {
    "nbpresent": {
     "id": "10e39d1b-5d74-4258-bb11-de0351c82adc"
    },
    "slideshow": {
     "slide_type": "fragment"
    }
   },
   "source": [
    "para una contante $c$. Para casi todo $c$, este mapeo genera un fractal.\n",
    "\n"
   ]
  },
  {
   "cell_type": "markdown",
   "metadata": {
    "nbpresent": {
     "id": "10cb6713-1690-47b5-8a25-69964659e844"
    },
    "slideshow": {
     "slide_type": "slide"
    }
   },
   "source": [
    "## 2. Generando Conjuntos de Julia en Python"
   ]
  },
  {
   "cell_type": "code",
   "execution_count": null,
   "metadata": {
    "nbpresent": {
     "id": "686b0b3c-4c7d-4e0c-84cd-5e7b6acd3b7d"
    },
    "slideshow": {
     "slide_type": "fragment"
    }
   },
   "outputs": [],
   "source": [
    "%matplotlib inline"
   ]
  },
  {
   "cell_type": "code",
   "execution_count": null,
   "metadata": {
    "nbpresent": {
     "id": "a79caa57-a969-4967-9686-1edeff88a42f"
    },
    "slideshow": {
     "slide_type": "fragment"
    }
   },
   "outputs": [],
   "source": [
    "import matplotlib.pyplot as plt\n",
    "import matplotlib.cm as cm\n",
    "\n",
    "# Limites de la region a estudiar\n",
    "xL, xU, yL, yU = -2, +2, -2, +2\n",
    "\n",
    "# resolucion de la imagen\n",
    "r = 500\n",
    "\n",
    "# numero maximo de iteraciones\n",
    "max_it = 200\n",
    "\n",
    "# Grillado de la region a estudiar\n",
    "x = [xL + i * (float(xU) - float(xL)) / (float(r)) for i in range(r + 1)]\n",
    "y = [yL + i * (float(yU) - float(yL)) / (float(r)) for i in range(r + 1)]\n",
    "\n",
    "# Constantes a emplearse como c en\n",
    "# z_n+1 = z_n*z_n + c\n",
    "cs = [\n",
    "    complex( 0.0000000,  1.00000000),\n",
    "    complex(-0.1270000,  0.74500000),\n",
    "    complex(-0.7500000, -0.00000000),\n",
    "    complex(-0.3910000, -0.58700000)\n",
    "]\n",
    "\n",
    "for c in cs:\n",
    "    # Preparecion del mallado en el plano complejo\n",
    "    z = [[complex(re, im) for re in x] for im in y]\n",
    "    q = [[0 for i in range(r + 1)] for j in range(r + 1)]\n",
    "\n",
    "    # \"Crunching number\"\n",
    "    for i in range(len(x)):\n",
    "        for j in range(len(y)):\n",
    "            p = i + j + i * r\n",
    "\n",
    "            if p % (r + 1) == 0:\n",
    "                p = 100.0 * float(p) / float((r + 1) * (r + 1))\n",
    "\n",
    "            for k in range(max_it):\n",
    "                z[i][j] = (z[i][j] * z[i][j]) + c\n",
    "                if abs(z[i][j]) > 2:\n",
    "                    q[i][j] = k\n",
    "                    break\n",
    "\n",
    "    # Output figure\n",
    "    plt.figure(figsize=(10, 10), frameon=False)\n",
    "    plt.imshow(q, extent=[xL, xU, yL, yU], cmap=cm.cool, vmin=min(min(q)), vmax=max(max(q)))\n",
    "    plt.axis('off')\n",
    "    plt.draw()\n",
    "    plt.show()"
   ]
  },
  {
   "cell_type": "code",
   "execution_count": null,
   "metadata": {
    "jupyter": {
     "outputs_hidden": true
    }
   },
   "outputs": [],
   "source": []
  }
 ],
 "metadata": {
  "anaconda-cloud": {},
  "kernelspec": {
   "display_name": "Python 3",
   "language": "python",
   "name": "python3"
  },
  "language_info": {
   "codemirror_mode": {
    "name": "ipython",
    "version": 3
   },
   "file_extension": ".py",
   "mimetype": "text/x-python",
   "name": "python",
   "nbconvert_exporter": "python",
   "pygments_lexer": "ipython3",
   "version": "3.8.1"
  },
  "nbpresent": {
   "slides": {},
   "themes": {}
  }
 },
 "nbformat": 4,
 "nbformat_minor": 4
}
