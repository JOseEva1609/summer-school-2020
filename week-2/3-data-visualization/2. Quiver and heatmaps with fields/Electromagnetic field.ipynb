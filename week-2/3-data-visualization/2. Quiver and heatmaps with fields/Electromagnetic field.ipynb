{
 "cells": [
  {
   "cell_type": "markdown",
   "metadata": {},
   "source": [
    "# Campo eléctrico"
   ]
  },
  {
   "cell_type": "markdown",
   "metadata": {},
   "source": [
    "Campo eléctrico de una carga puntual centrada en el origen con carga $q$\n",
    "\n",
    "$$\n",
    "\\mathbf{E} = q \\left(\\frac{x}{(x^2 + y^2)^{3/2}} \\mathbf{i} + \\frac{y}{(x^2 + y^2)^{3/2} }\\mathbf{j}\\right)\n",
    "$$"
   ]
  },
  {
   "cell_type": "code",
   "execution_count": null,
   "metadata": {},
   "outputs": [],
   "source": [
    "%matplotlib inline"
   ]
  },
  {
   "cell_type": "code",
   "execution_count": null,
   "metadata": {},
   "outputs": [],
   "source": [
    "import numpy as np\n",
    "import matplotlib.pyplot as plt\n",
    "import matplotlib.colors as colors"
   ]
  },
  {
   "cell_type": "code",
   "execution_count": null,
   "metadata": {},
   "outputs": [],
   "source": [
    "def E(x, y, a, b, q):\n",
    "    Ex = q*(x - a)/((x - a)**2 + (y - b)**2)\n",
    "    Ey = q*(y - b)/((x - a)**2 + (y - b)**2)\n",
    "    \n",
    "    return Ex, Ey\n",
    "\n",
    "def modulo(Ax, Ay):\n",
    "    A = (Ax**2 + Ay**2)**(1/2)\n",
    "    return A"
   ]
  },
  {
   "cell_type": "code",
   "execution_count": null,
   "metadata": {},
   "outputs": [],
   "source": [
    "x = np.linspace(-5, 5, 10)\n",
    "y = np.linspace(-5, 5, 10)\n",
    "\n",
    "X, Y = np.meshgrid(x, y)\n",
    "\n",
    "Ex, Ey = E(X, Y, 0, 0, 1)\n",
    "\n",
    "Emod = modulo(Ex, Ey)\n",
    "\n",
    "\n",
    "circle = plt.Circle((0, 0), 0.2, color = 'r')\n",
    "\n",
    "plt.quiver(X, Y, Ex/Emod, Ey/Emod, Emod, pivot = 'middle', cmap='cool', norm=colors.LogNorm(vmin=Emod.min(),vmax=Emod.max()))\n",
    "plt.gca().add_patch(circle)\n",
    "plt.axis('scaled')\n",
    "plt.show()"
   ]
  },
  {
   "cell_type": "markdown",
   "metadata": {},
   "source": [
    "Campo eléctrico producido por 2 cargas de signo opuesto\n",
    "\n",
    "$$\n",
    "\\mathbf{E} = \\mathbf{E_1} + \\mathbf{E_2}\n",
    "$$\n",
    "\n",
    "$$\n",
    "\\mathbf{E_1} = q\\left(\\frac{x + 1}{((x+1)^2 + y^2)^{3/2}} \\mathbf{i} + \\frac{y}{((x+1)^2 + y^2)^{3/2} }\\mathbf{j}\\right)\n",
    "$$\n",
    "\n",
    "$$\n",
    "\\mathbf{E_2} = -q\\left(\\frac{x - 1}{((x-1)^2 + y^2)^{3/2}} \\mathbf{i} + \\frac{y}{((x-1)^2 + y^2)^{3/2} }\\mathbf{j} \\right)\n",
    "$$"
   ]
  },
  {
   "cell_type": "code",
   "execution_count": null,
   "metadata": {},
   "outputs": [],
   "source": [
    "a1 = 2\n",
    "a2 = -2\n",
    "\n",
    "Ex1, Ey1 = E(X, Y, a1, 0, 1)\n",
    "\n",
    "Ex2, Ey2 = E(X, Y, a2, 0, -1) \n",
    "\n",
    "Etx = Ex1 + Ex2\n",
    "Ety = Ey1 + Ey2\n",
    "\n",
    "Et = modulo(Etx, Ety)\n",
    "\n",
    "circle_pos = plt.Circle((a1, 0), 0.2, color = 'r')\n",
    "circle_neg = plt.Circle((a2, 0), 0.2, color = 'b')\n",
    "\n",
    "plt.quiver(X, Y, Etx/Et, Ety/Et, Et, \n",
    "           pivot = 'middle', \n",
    "           cmap='cool', \n",
    "           norm = colors.LogNorm(vmin=Et.min(),vmax=Et.max()))\n",
    "plt.gca().add_patch(circle_pos)\n",
    "plt.gca().add_patch(circle_neg)\n",
    "plt.axis('scaled')\n",
    "plt.show()"
   ]
  },
  {
   "cell_type": "markdown",
   "metadata": {},
   "source": [
    "## Líneas de campo"
   ]
  },
  {
   "cell_type": "code",
   "execution_count": null,
   "metadata": {},
   "outputs": [],
   "source": [
    "plt.streamplot(X, Y, Etx, Ety, color = Et, cmap='cool', arrowstyle='->')\n",
    "plt.show()"
   ]
  },
  {
   "cell_type": "markdown",
   "metadata": {},
   "source": [
    "# Potencial"
   ]
  },
  {
   "cell_type": "markdown",
   "metadata": {},
   "source": [
    "Potencial eléctrico debido a una carga puntual con carga $q$\n",
    "\n",
    "$$\n",
    "V = \\frac{q}{(x^2 + y^2)^{1/2}}\n",
    "$$"
   ]
  },
  {
   "cell_type": "code",
   "execution_count": null,
   "metadata": {},
   "outputs": [],
   "source": [
    "def V(x, y, a, b, q):\n",
    "    V = q/((x - a)**2 + (y - b)**2)**(1/2)\n",
    "    return V"
   ]
  },
  {
   "cell_type": "code",
   "execution_count": null,
   "metadata": {},
   "outputs": [],
   "source": [
    "xV = np.linspace(-5, 5)\n",
    "yV = np.linspace(-5, 5)\n",
    "\n",
    "XV, YV = np.meshgrid(xV, yV)\n",
    "\n",
    "V1 = V(XV, YV, -1, 0, 1)\n",
    "V2 = V(XV, YV, 1, 0, 1)\n",
    "\n",
    "Vt = V1 + V2\n",
    "\n",
    "plt.contourf(XV, YV, V1 + V2, cmap = 'cool')\n",
    "plt.contour(XV, YV, Vt, colors = 'k')\n",
    "plt.show()"
   ]
  }
 ],
 "metadata": {
  "kernelspec": {
   "display_name": "Python 3",
   "language": "python",
   "name": "python3"
  },
  "language_info": {
   "codemirror_mode": {
    "name": "ipython",
    "version": 3
   },
   "file_extension": ".py",
   "mimetype": "text/x-python",
   "name": "python",
   "nbconvert_exporter": "python",
   "pygments_lexer": "ipython3",
   "version": "3.8.1"
  }
 },
 "nbformat": 4,
 "nbformat_minor": 4
}
